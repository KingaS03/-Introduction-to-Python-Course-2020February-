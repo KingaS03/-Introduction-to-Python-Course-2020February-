{
 "cells": [
  {
   "cell_type": "markdown",
   "metadata": {},
   "source": [
    "### Exercise 1\n",
    "\n",
    "Calculate the maximal value of a house for which you could get a loan from a bank in Switzerland by using the following formula\n",
    "\n",
    "$$V = \\frac{(B-U)\\cdot\\frac{1}{r}\\cdot\\left(1-\\frac{1}{(1+r)^n}\\right)}{\\frac{2}{15}+\\frac{2}{3}\\cdot\\left(1-\\frac{1}{(1+r)^n}\\right)},$$\n",
    "where $B$ is one third of your yearly income, $U$ stands for the yearly utility costs, $r$ is the yearly interest rate (for worst scenario banks use 5%) and $n$ is the number of years that you have until pension, assuming that at the time of the purchase you can pay for 20% of the house from your savings."
   ]
  },
  {
   "cell_type": "markdown",
   "metadata": {},
   "source": [
    "### Solution"
   ]
  },
  {
   "cell_type": "code",
   "execution_count": null,
   "metadata": {},
   "outputs": [],
   "source": [
    "B = 7500*12/3 #assuming a monthly income of 7500 CHF\n",
    "U = 5500\n",
    "r = 0.05\n",
    "n = 30\n",
    "V = (B-U)*1/r*(1-(1+r)**(-n))/(2/15 + 2/3*(1-(1+r)**(-n)))\n",
    "print(V)"
   ]
  },
  {
   "cell_type": "markdown",
   "metadata": {},
   "source": [
    "### Exercise 2\n",
    "\n",
    "In our decimal system we are used to the property that we can multiply a number by 10 by adding a 0 digit to the end of the number. \n",
    "\n",
    "Check on examples whether a similar property holds in the binary system as well, namely whether multiplication by two can be performed on the binary form of numbers by writing a digit 0 to the end of the number. "
   ]
  },
  {
   "cell_type": "markdown",
   "metadata": {},
   "source": [
    "### Solution"
   ]
  },
  {
   "cell_type": "markdown",
   "metadata": {},
   "source": [
    "Choose any number to display its binary form."
   ]
  },
  {
   "cell_type": "code",
   "execution_count": null,
   "metadata": {},
   "outputs": [],
   "source": [
    "x = 4\n",
    "bin(x)"
   ]
  },
  {
   "cell_type": "markdown",
   "metadata": {},
   "source": [
    "Display the binary form of the double of the chosen number."
   ]
  },
  {
   "cell_type": "code",
   "execution_count": null,
   "metadata": {},
   "outputs": [],
   "source": [
    "bin(2*x)"
   ]
  },
  {
   "cell_type": "markdown",
   "metadata": {},
   "source": [
    "You can check also mathematically that the property holds for all inputs."
   ]
  },
  {
   "cell_type": "markdown",
   "metadata": {},
   "source": [
    "### Exercise 3\n",
    "\n",
    "* Determine the maximal element of a list of real numbers.\n",
    "* Determine the maximal element of a list and the position where is this maximum reached."
   ]
  },
  {
   "cell_type": "markdown",
   "metadata": {},
   "source": [
    "### Solution"
   ]
  },
  {
   "cell_type": "code",
   "execution_count": null,
   "metadata": {},
   "outputs": [],
   "source": [
    "L = [7, 2, 3, 1, 5, 1, 7]\n",
    "Maximum = max(L)\n",
    "print(\"Maximum: \" + str(Maximum))"
   ]
  },
  {
   "cell_type": "markdown",
   "metadata": {},
   "source": [
    "For the second part of the problem there are different approaches possible. First let's see the less elegant approach. The other approach will come later in the chapter of the List comprehensions."
   ]
  },
  {
   "cell_type": "code",
   "execution_count": null,
   "metadata": {},
   "outputs": [],
   "source": [
    "PositionsOfMax = []\n",
    "for i in range(len(L)):\n",
    "    if L[i] == Maximum:\n",
    "        PositionsOfMax.append(i)\n",
    "print(\"Positions of the maximum: \", PositionsOfMax)"
   ]
  },
  {
   "cell_type": "markdown",
   "metadata": {},
   "source": [
    "### Exercise 4\n",
    "\n",
    "1. Create a dictionary, which contains as keys all the elements of a list and as values the corresponding number of occurences in the list.\n",
    "For example for the list \n",
    "```L = [1, 2, 3, 2]```\n",
    "the corresponding dictionary would be\n",
    "```{1:1, 2: 2, 3:1}```.\n",
    "\n",
    "2. Knowing that the year started with a day of Monday, determine on what day of the week would fall the 100-th, 243-th, 301-th day of the year."
   ]
  },
  {
   "cell_type": "markdown",
   "metadata": {},
   "source": [
    "### Solution to part 1"
   ]
  },
  {
   "cell_type": "code",
   "execution_count": null,
   "metadata": {},
   "outputs": [],
   "source": [
    "L = [1, 2, \"a\", 2, 3, 2, 2, 2, \"a\"]\n",
    "D = {}\n",
    "for element in L:\n",
    "    if element in D.keys():\n",
    "        D[element] = D[element] + 1\n",
    "    else:\n",
    "        D[element] = 1\n",
    "print(D)"
   ]
  },
  {
   "cell_type": "markdown",
   "metadata": {},
   "source": [
    "### Solution to part 2\n",
    "\n",
    "without dictionaries"
   ]
  },
  {
   "cell_type": "code",
   "execution_count": null,
   "metadata": {},
   "outputs": [],
   "source": [
    "DayOfYear = 100\n",
    "DayOfWeekInCode = 100 % 7\n",
    "\n",
    "if DayOfWeekInCode == 0:\n",
    "    print(\"Sunday\")\n",
    "elif DayOfWeekInCode == 1:\n",
    "    print(\"Monday\")\n",
    "elif DayOfWeekInCode == 2:\n",
    "    print(\"Tuesday\")\n",
    "elif DayOfWeekInCode == 3:\n",
    "    print(\"Wednesday\")\n",
    "elif DayOfWeekInCode == 4:\n",
    "    print(\"Thursday\")\n",
    "elif DayOfWeekInCode == 5:\n",
    "    print(\"Friday\")\n",
    "else:\n",
    "    print(\"Saturday\")"
   ]
  },
  {
   "cell_type": "markdown",
   "metadata": {},
   "source": [
    "with dictionaries"
   ]
  },
  {
   "cell_type": "code",
   "execution_count": null,
   "metadata": {},
   "outputs": [],
   "source": [
    "DayOfYear = 100\n",
    "DayOfWeekInCode = 100 % 7\n",
    "WeekDaysFromCodes = {0: \"Sunday\", 1: \"Monday\", 2: \"Tuesday\", 3: \"Wednesday\", 4: \"Thursday\", 5: \"Friday\", 6: \"Saturday\"}\n",
    "\n",
    "print(WeekDaysFromCodes[DayOfWeekInCode])"
   ]
  },
  {
   "cell_type": "markdown",
   "metadata": {},
   "source": [
    "### Exercise 5\n",
    "\n",
    "We consider three categories of major allergy factors: milk, gluten and nuts. From all the participants of a dietary seminar we got the information whether they are allergic to these individual factors. We denote the participants by $P_1, P_2, \\ldots, P_{30}$. The collected information is summarized in the following code:"
   ]
  },
  {
   "cell_type": "code",
   "execution_count": null,
   "metadata": {},
   "outputs": [],
   "source": [
    "milk = {'P1', 'P3', 'P7', 'P10', 'P18'} #people being allergic to milk\n",
    "gluten = {'P1', 'P10', 'P5', 'P22', 'P18'} #people being allergic to milk\n",
    "nuts = {'P5', 'P10', 'P27'} #people being allergic to nuts"
   ]
  },
  {
   "cell_type": "markdown",
   "metadata": {},
   "source": [
    "1. Who is allergic to milk, gluten and nuts, as well?\n",
    "\n",
    "2. Determine with set operations, which participants are allergic to exactly one factor."
   ]
  },
  {
   "cell_type": "markdown",
   "metadata": {},
   "source": [
    "### Solution to part 1"
   ]
  },
  {
   "cell_type": "markdown",
   "metadata": {},
   "source": [
    "The answer is given by the intersection of all three sets"
   ]
  },
  {
   "cell_type": "code",
   "execution_count": null,
   "metadata": {},
   "outputs": [],
   "source": [
    "milk & gluten & nuts"
   ]
  },
  {
   "cell_type": "markdown",
   "metadata": {},
   "source": [
    "### Solution to part 2"
   ]
  },
  {
   "cell_type": "markdown",
   "metadata": {},
   "source": [
    "First we determine the individuals, who are allergic to milk, but not on gluten and not on nut"
   ]
  },
  {
   "cell_type": "code",
   "execution_count": null,
   "metadata": {},
   "outputs": [],
   "source": [
    "milk - (gluten | nuts)"
   ]
  },
  {
   "cell_type": "markdown",
   "metadata": {},
   "source": [
    "Similarly the ones who are allergic just to gluten are the following"
   ]
  },
  {
   "cell_type": "code",
   "execution_count": null,
   "metadata": {},
   "outputs": [],
   "source": [
    "gluten - (milk | nuts)"
   ]
  },
  {
   "cell_type": "markdown",
   "metadata": {},
   "source": [
    "And the ones who are allergic exclusively to nuts are"
   ]
  },
  {
   "cell_type": "code",
   "execution_count": null,
   "metadata": {},
   "outputs": [],
   "source": [
    "nuts - (milk | gluten)"
   ]
  },
  {
   "cell_type": "markdown",
   "metadata": {},
   "source": [
    "The union of these three sets gives us the desired answer:"
   ]
  },
  {
   "cell_type": "code",
   "execution_count": null,
   "metadata": {},
   "outputs": [],
   "source": [
    "(milk - (gluten | nuts)) | (gluten - (milk | nuts)) | (nuts - (milk | gluten))"
   ]
  },
  {
   "cell_type": "markdown",
   "metadata": {},
   "source": [
    "The ones familiar with the symmetric differences might have obtained the same result with"
   ]
  },
  {
   "cell_type": "code",
   "execution_count": null,
   "metadata": {},
   "outputs": [],
   "source": [
    "milk ^ gluten ^ nuts - (milk & gluten & nuts)"
   ]
  },
  {
   "cell_type": "markdown",
   "metadata": {},
   "source": [
    "### Exercise 6\n",
    "\n",
    "1. Write code which checks whether a given number ```a``` is a multiple of ```b``` and write your result as a text message.\n",
    "2. A leap year is a year of 366 days in the Gregorian calendar. It is a year whose number is exactly divisible by 4, or, in case of the final year of a century, by 400. Determine whether a given year leapyear is or not."
   ]
  },
  {
   "cell_type": "markdown",
   "metadata": {},
   "source": [
    "### Solution to part 1\n",
    "\n",
    "Pay attention to the way the result is printed out. To find out more about the possibility of formatting the output take a look at the following links: [formatted output 2](https://www.python-course.eu/python3_formatted_output.php), [formatted output 2](https://pyformat.info/)."
   ]
  },
  {
   "cell_type": "code",
   "execution_count": null,
   "metadata": {},
   "outputs": [],
   "source": [
    "a = 20\n",
    "b = 6\n",
    "if a % b == 0:\n",
    "    print(\"{} is a multiple of {}.\".format(a,b))\n",
    "else:\n",
    "    print(\"{} is not a multiple of {}.\".format(a,b))"
   ]
  },
  {
   "cell_type": "markdown",
   "metadata": {},
   "source": [
    "### Solution to part 2"
   ]
  },
  {
   "cell_type": "code",
   "execution_count": null,
   "metadata": {},
   "outputs": [],
   "source": [
    "year = 23\n",
    "LeapYear = False\n",
    "if year % 4 == 0:\n",
    "    if year % 100 == 0:\n",
    "        if year % 400 == 0:\n",
    "            LeapYear = True\n",
    "        else:\n",
    "            LeapYear = False\n",
    "    else:\n",
    "        LeapYear = True\n",
    "else:\n",
    "    LeapYear = False\n",
    "print(LeapYear)"
   ]
  },
  {
   "cell_type": "markdown",
   "metadata": {},
   "source": [
    "### Exercise 7\n",
    "\n",
    "Determine the starting position and ending position of the longest sequence of consecutive 0-s in a given list."
   ]
  },
  {
   "cell_type": "markdown",
   "metadata": {},
   "source": [
    "### Solution"
   ]
  },
  {
   "cell_type": "code",
   "execution_count": null,
   "metadata": {},
   "outputs": [],
   "source": [
    "l = [1, 0, 0, 1, 2, -1, 3, 0, 0, 0, 0, 0]"
   ]
  },
  {
   "cell_type": "code",
   "execution_count": null,
   "metadata": {},
   "outputs": [],
   "source": [
    "maxlength = 0\n",
    "firstzero_pos = l.index(0)\n",
    "i = firstzero_pos\n",
    "if firstzero_pos >= 0:\n",
    "    length = 1\n",
    "    i = i + 1\n",
    "    while i < len(l):\n",
    "        if l[i] == 0 and l[i-1] == 0:\n",
    "            length += 1\n",
    "        elif l[i-1] == 0:\n",
    "            lastzero_pos = i - 1\n",
    "            if maxlength < length:\n",
    "                maxlength = length\n",
    "                start = firstzero_pos\n",
    "                end = lastzero_pos\n",
    "        elif l[i] == 0:\n",
    "            firstzero_pos = i\n",
    "            length = 1\n",
    "        i = i + 1\n",
    "    if maxlength < length:\n",
    "        maxlength = length\n",
    "        start = firstzero_pos\n",
    "        end = lastzero_pos\n",
    "else:\n",
    "    maxlength = 0\n",
    "    start = -1\n",
    "    end = -1\n",
    "    \n",
    "    \n",
    "print(\"Maximal length:\" + str(maxlength))\n",
    "print(\"Start:\" + str(start))\n",
    "print(\"End:\" + str(end))"
   ]
  },
  {
   "cell_type": "markdown",
   "metadata": {},
   "source": [
    "### Exercise 8\n",
    "\n",
    "Turn back to the exercises in Chapters about Control flow statements (Chapter 6) and Built-in data structures (Cahpter 7) and create out of them meaningful functions. "
   ]
  },
  {
   "cell_type": "markdown",
   "metadata": {},
   "source": [
    "### Solution\n",
    "\n",
    "We will just exemplify this process of transforming a reusable block of code into a function, by identifying its inputs and outputs and putting its text in the body of a function."
   ]
  },
  {
   "cell_type": "code",
   "execution_count": null,
   "metadata": {},
   "outputs": [],
   "source": [
    "def OccurencesInList(L):\n",
    "    \"\"\"For the given list L the function returns a dictionary having as keys the pairwise different elements of the list and the corresponding values indicate the number of occurences.\"\"\"\n",
    "    D = {}\n",
    "    for element in L:\n",
    "        if element in D.keys():\n",
    "            D[element] = D[element] + 1\n",
    "        else:\n",
    "            D[element] = 1\n",
    "    return(D)"
   ]
  },
  {
   "cell_type": "markdown",
   "metadata": {},
   "source": [
    "We call the function for a given list."
   ]
  },
  {
   "cell_type": "code",
   "execution_count": null,
   "metadata": {},
   "outputs": [],
   "source": [
    "OccurencesInList([\"asd\", 2, 3, 1, 2, \"asd\", \"asd\"])"
   ]
  },
  {
   "cell_type": "markdown",
   "metadata": {},
   "source": [
    "Another function:"
   ]
  },
  {
   "cell_type": "code",
   "execution_count": null,
   "metadata": {},
   "outputs": [],
   "source": [
    "def IsLeapYear(year):\n",
    "    \"\"\"For a given year the function returns a Boolean variable telling whether the year is a leap year.\"\"\"\n",
    "    LeapYear = False\n",
    "    if year % 4 == 0:\n",
    "        if year % 100 == 0:\n",
    "            if year % 400 == 0:\n",
    "                LeapYear = True\n",
    "            else:\n",
    "                LeapYear = False\n",
    "        else:\n",
    "            LeapYear = True\n",
    "    else:\n",
    "        LeapYear = False\n",
    "    return LeapYear"
   ]
  },
  {
   "cell_type": "markdown",
   "metadata": {},
   "source": [
    "We test the function for the input year 203."
   ]
  },
  {
   "cell_type": "code",
   "execution_count": null,
   "metadata": {},
   "outputs": [],
   "source": [
    "IsLeapYear(203)"
   ]
  },
  {
   "cell_type": "markdown",
   "metadata": {},
   "source": [
    "### Exercise 9\n",
    "\n",
    "1. Let's come back to one of our previous exercise contexts. Create a function out of one of them and raise an error in this function.\n",
    "2. Call the above function for an input, which will raise an exception, catch the error that you raised in your function and redefine the reaction to it."
   ]
  },
  {
   "cell_type": "markdown",
   "metadata": {},
   "source": [
    "### Solution\n",
    "\n",
    "1. Let's create a function that raises an error and try it out."
   ]
  },
  {
   "cell_type": "code",
   "execution_count": null,
   "metadata": {},
   "outputs": [],
   "source": [
    "def Is_PosNegZero(x):\n",
    "    if isinstance(x,float) or isinstance(x, int):\n",
    "        if x == 0:\n",
    "            return \"is zero\"\n",
    "        elif x > 0:\n",
    "            return \"is positive\"\n",
    "        else:\n",
    "            return \"is negative\"\n",
    "    else:\n",
    "        raise TypeError(\"The input variable is not supported. The function can be called just for real numbers.\")"
   ]
  },
  {
   "cell_type": "code",
   "execution_count": null,
   "metadata": {},
   "outputs": [],
   "source": [
    "Is_PosNegZero(\"one\")"
   ]
  },
  {
   "cell_type": "markdown",
   "metadata": {},
   "source": [
    "2. Let's call the above function and suppress the reaction to the error."
   ]
  },
  {
   "cell_type": "code",
   "execution_count": null,
   "metadata": {},
   "outputs": [],
   "source": [
    "x = \"vbn\"\n",
    "try:\n",
    "    Is_PosNegZero(x)\n",
    "except:\n",
    "    print(\"Next time give me as input a real number.\")"
   ]
  },
  {
   "cell_type": "markdown",
   "metadata": {},
   "source": [
    "### Exercise 10\n",
    "\n",
    "Consider whether enumerate could be used to determine all the positions in a list, which contain the maximal element."
   ]
  },
  {
   "cell_type": "markdown",
   "metadata": {},
   "source": [
    "### Solution"
   ]
  },
  {
   "cell_type": "code",
   "execution_count": null,
   "metadata": {},
   "outputs": [],
   "source": [
    "L = [2, 5, 1, -1, 5, 3]\n",
    "maxpos = []\n",
    "Max = max(L)\n",
    "for i, val in enumerate(L):\n",
    "    if val == Max:\n",
    "        maxpos.append(i)\n",
    "print(maxpos)"
   ]
  },
  {
   "cell_type": "markdown",
   "metadata": {},
   "source": [
    "### Exercise 11\n",
    "\n",
    "A perfect number is a positive integer that is equal to the sum of its positive divisors, excluding the number itself. Write a function which determines whether a number is perfect. Print out all the perfect numbers until 1000."
   ]
  },
  {
   "cell_type": "markdown",
   "metadata": {},
   "source": [
    "### Solution\n",
    "\n",
    "First let's create the function telling whether the number is perfect."
   ]
  },
  {
   "cell_type": "code",
   "execution_count": null,
   "metadata": {},
   "outputs": [],
   "source": [
    "def isperfect(x):\n",
    "    \"\"\"Determines whether the input number x is a perfect number.\"\"\"\n",
    "    if type(x) != int:\n",
    "        raise ValueError(\"The input value should be integer.\")\n",
    "    else:\n",
    "        sumofdivisors = 0\n",
    "        for i in range(x//2):\n",
    "            if x % (i+1) == 0:\n",
    "                sumofdivisors += i+1\n",
    "        return (sumofdivisors == x) & (x > 0)"
   ]
  },
  {
   "cell_type": "code",
   "execution_count": null,
   "metadata": {},
   "outputs": [],
   "source": [
    "isperfect(6)"
   ]
  },
  {
   "cell_type": "markdown",
   "metadata": {},
   "source": [
    "We will use the filter to print out all the perfect numbers in the specified range."
   ]
  },
  {
   "cell_type": "code",
   "execution_count": null,
   "metadata": {},
   "outputs": [],
   "source": [
    "for val in filter(isperfect, range(1000)):\n",
    "    print(val, end=' ')"
   ]
  },
  {
   "cell_type": "markdown",
   "metadata": {},
   "source": [
    "### Exercise 12\n",
    "\n",
    "Rewrite the `[n ** 2 for n in range(12)]` code block with `map` and `lambda`."
   ]
  },
  {
   "cell_type": "markdown",
   "metadata": {},
   "source": [
    "### Solution"
   ]
  },
  {
   "cell_type": "code",
   "execution_count": null,
   "metadata": {},
   "outputs": [],
   "source": [
    "list(map(lambda x:x**2, range(12)))"
   ]
  },
  {
   "cell_type": "markdown",
   "metadata": {},
   "source": [
    "If we compare the result of our code to the one from the text of the exercise, we observe that they provide the same result, that is"
   ]
  },
  {
   "cell_type": "code",
   "execution_count": null,
   "metadata": {},
   "outputs": [],
   "source": [
    "[n ** 2 for n in range(12)]"
   ]
  },
  {
   "cell_type": "markdown",
   "metadata": {},
   "source": [
    "### Exercise 13\n",
    "\n",
    "Rewrite `[val for val in range(20) if val % 3 > 0]` with `filter` and `lambda`."
   ]
  },
  {
   "cell_type": "markdown",
   "metadata": {},
   "source": [
    "### Solution"
   ]
  },
  {
   "cell_type": "code",
   "execution_count": null,
   "metadata": {},
   "outputs": [],
   "source": [
    "list(filter(lambda val: val % 3 > 0, range(20)))"
   ]
  },
  {
   "cell_type": "markdown",
   "metadata": {},
   "source": [
    "If we compare the result of our code to the one from the text of the exercise, we observe that they provide the same result, that is"
   ]
  },
  {
   "cell_type": "code",
   "execution_count": null,
   "metadata": {},
   "outputs": [],
   "source": [
    "[val for val in range(20) if val % 3 > 0]"
   ]
  },
  {
   "cell_type": "markdown",
   "metadata": {},
   "source": [
    "### Exercise 14\n",
    "\n",
    "Use string manipulation to write a function, which returns those rows of the input text `t`, which contain the string `s`.\n",
    "\n",
    "Search with this function for the word \"translated\" in the haitakus of Fodor Ákos."
   ]
  },
  {
   "cell_type": "code",
   "execution_count": null,
   "metadata": {},
   "outputs": [],
   "source": [
    "mytext = \"\"\"WORKSHOP HAIKU\n",
    "translated by Éva Antal\n",
    "\n",
    "Perhaps do not even touch it.\n",
    "Just look at it, look at it,\n",
    "until it becomes beautiful.\n",
    "\n",
    " \n",
    "\n",
    "TEST QUESTION FOR EVERY DAY\n",
    "translated by Éva Antal\n",
    "\n",
    "Do you still see\n",
    "what you look at, or you only\n",
    "know: \"there\" \"it\" \"is\"?\n",
    "\n",
    " \n",
    "\n",
    "FROM THE BEST OF INTENTIONS\n",
    "translated by Gábor G. Gyukics and Michael Castro\n",
    "\n",
    "fall asleep;\n",
    "die the same way a child\n",
    "bites into an apple.\n",
    "\n",
    " \n",
    "\n",
    "MEETING\n",
    "translated by Gábor G. Gyukics and Michael Castro\n",
    "\n",
    "I plan it as a farewell\n",
    "\n",
    " \n",
    "\n",
    "THE HAIKU\n",
    "translated by Tamás Révbíró\n",
    "\n",
    "in front of my feet\n",
    "a bird sat, and then took flight.\n",
    "Now I'm heavier.\n",
    "\n",
    " \n",
    "\n",
    "AXIOM\n",
    "translated by Tamás Révbíró\n",
    "\n",
    "You should try and help\n",
    "everything to be the way\n",
    "it is anyway.\n",
    "\n",
    " \n",
    "\n",
    "ECHO ON EPICTETUS\n",
    "translated by Tamás Révbíró\n",
    "\n",
    "Don't say, \"I lost it\",\n",
    "about anything. Rather\n",
    "say, \"I gave it back\".\n",
    "\n",
    " \n",
    "\n",
    "AXIOM\n",
    "translated by Tamás Révbíró\n",
    "\n",
    "Parents and killers:\n",
    "almost-innocent servants.\n",
    "They just execute.\n",
    "\n",
    " \n",
    "\n",
    "ZENsation\n",
    "translated by Tamás Révbíró\n",
    "\n",
    "Look, the snow gives body to the wind!\n",
    "\n",
    " \n",
    "\n",
    "DISILLUSIONIST\n",
    "translated by Tamás Révbíró\n",
    "\n",
    "Why should I travel\n",
    "when I can be a stranger\n",
    "right here, standing still?\"\"\""
   ]
  },
  {
   "cell_type": "markdown",
   "metadata": {},
   "source": [
    "### Solution\n",
    "\n",
    "We summarize the steps which lead to the desired result:\n",
    "- First we split the text into lines."
   ]
  },
  {
   "cell_type": "code",
   "execution_count": null,
   "metadata": {},
   "outputs": [],
   "source": [
    "mytext.splitlines()"
   ]
  },
  {
   "cell_type": "markdown",
   "metadata": {},
   "source": [
    "- We print the lines containing the chosen word."
   ]
  },
  {
   "cell_type": "code",
   "execution_count": null,
   "metadata": {},
   "outputs": [],
   "source": [
    "mystring = \"translated\"\n",
    "for l in mytext.splitlines():\n",
    "    if l.find(s) >= 0:\n",
    "        print(l)"
   ]
  },
  {
   "cell_type": "markdown",
   "metadata": {},
   "source": [
    "- Now let's put the commands in a function, where instead of printing the lines out, we put them into a list, that the function will return."
   ]
  },
  {
   "cell_type": "code",
   "execution_count": null,
   "metadata": {},
   "outputs": [],
   "source": [
    "def FindsInRow(t, s):\n",
    "    \"\"\"Returns those rows of the input text t, which contain the string s.\"\"\"\n",
    "    \n",
    "    rows2return = []\n",
    "    for l in t.splitlines():\n",
    "        if l.find(s) >= 0:\n",
    "            rows2return.append(l)\n",
    "    return rows2return"
   ]
  },
  {
   "cell_type": "code",
   "execution_count": null,
   "metadata": {},
   "outputs": [],
   "source": [
    "FindsInRow(mytext,mystring)"
   ]
  },
  {
   "cell_type": "markdown",
   "metadata": {},
   "source": [
    "Finally we can compactify the definition of the functionby using list comprehensions."
   ]
  },
  {
   "cell_type": "code",
   "execution_count": null,
   "metadata": {
    "code_folding": []
   },
   "outputs": [],
   "source": [
    "def FindsInRow_s(t, s):\n",
    "    \"\"\"Returns those rows of the input text t, which contain the string s.\"\"\"\n",
    "    \n",
    "    return [l for l in t.splitlines() if l.find(s) >= 0]"
   ]
  },
  {
   "cell_type": "code",
   "execution_count": null,
   "metadata": {},
   "outputs": [],
   "source": [
    "FindsInRow_s(mytext,mystring)"
   ]
  },
  {
   "cell_type": "markdown",
   "metadata": {},
   "source": [
    "### Exercise 15\n",
    "\n",
    "Work further with the text of haitakus.\n",
    "\n",
    "1. Use regular expressions to write a function, which returns those rows of the input text `t`, which contain the string `s`.\n",
    "2. Modify the function in such a way that instead of looking for one string `s`, you allow for an infinity of strings `s_1`,`s_2`,... that you are looking for. The function should return all the lines, that match any of the specified strings.\n",
    "3. Create a dictionary containing the **title**, **translator** and **text** of each haitaku."
   ]
  },
  {
   "cell_type": "markdown",
   "metadata": {},
   "source": [
    "### Solution"
   ]
  },
  {
   "cell_type": "markdown",
   "metadata": {},
   "source": [
    "1. We rewrite the string manipulations into regular expressions. "
   ]
  },
  {
   "cell_type": "code",
   "execution_count": null,
   "metadata": {},
   "outputs": [],
   "source": [
    "import re"
   ]
  },
  {
   "cell_type": "code",
   "execution_count": null,
   "metadata": {},
   "outputs": [],
   "source": [
    "def FindsInRow(t, s):\n",
    "    \"\"\"Returns those rows of the input text t, which contain the string s.\"\"\"\n",
    "    regex1 = re.compile('\\n')\n",
    "    regex2 = re.compile(s)\n",
    "    return [l for l in regex1.split(t) if len(regex2.findall(l)) > 0]"
   ]
  },
  {
   "cell_type": "code",
   "execution_count": null,
   "metadata": {},
   "outputs": [],
   "source": [
    "FindsInRow(mytext,mystring)"
   ]
  },
  {
   "cell_type": "markdown",
   "metadata": {},
   "source": [
    "2. The follwing code searches for the words `the` and `by` and returns all the rows, which match any of these."
   ]
  },
  {
   "cell_type": "code",
   "execution_count": null,
   "metadata": {},
   "outputs": [],
   "source": [
    "regex1 = re.compile('\\n')\n",
    "regex3 = re.compile('(the|by)')\n",
    "[l for l in regex1.split(mytext) if len(regex3.findall(l)) > 0]"
   ]
  },
  {
   "cell_type": "code",
   "execution_count": null,
   "metadata": {},
   "outputs": [],
   "source": [
    "def FindsStringsInRow(t, *s):\n",
    "    \"\"\"Returns those rows of the input text t, which contain any of the input strings s.\"\"\"\n",
    "    regex1 = re.compile('\\n')\n",
    "    regex3 = re.compile('('+'|'.join(s)+')')\n",
    "    return [l for l in regex1.split(t) if len(regex3.findall(l)) > 0]"
   ]
  },
  {
   "cell_type": "code",
   "execution_count": null,
   "metadata": {},
   "outputs": [],
   "source": [
    "FindsStringsInRow(mytext,\"the\",\"by\",\"exe\")"
   ]
  },
  {
   "cell_type": "code",
   "execution_count": null,
   "metadata": {},
   "outputs": [],
   "source": []
  },
  {
   "cell_type": "markdown",
   "metadata": {},
   "source": [
    "3. We split the text into title, translator and text of haikus."
   ]
  },
  {
   "cell_type": "code",
   "execution_count": null,
   "metadata": {
    "code_folding": []
   },
   "outputs": [],
   "source": [
    "def TitleTranslatorText(t):\n",
    "    \"\"\"Returns those rows of the input text t, which contain any of the input strings s.\"\"\"\n",
    "    regex1 = re.compile('\\n\\s\\n\\n')\n",
    "    regex4 = re.compile('(?P<title>[\\w\\s.]+)\\ntranslated by (?P<translator>[\\w\\s.]+)\\n\\n(?P<text>[\\w\\s.,:;?\\'\"]+)')\n",
    "    for l in regex1.split(t):\n",
    "        match = regex4.match(l)\n",
    "        print(match.groupdict())"
   ]
  },
  {
   "cell_type": "code",
   "execution_count": null,
   "metadata": {},
   "outputs": [],
   "source": [
    "TitleTranslatorText(mytext)"
   ]
  }
 ],
 "metadata": {
  "kernelspec": {
   "display_name": "Python 3",
   "language": "python",
   "name": "python3"
  },
  "language_info": {
   "codemirror_mode": {
    "name": "ipython",
    "version": 3
   },
   "file_extension": ".py",
   "mimetype": "text/x-python",
   "name": "python",
   "nbconvert_exporter": "python",
   "pygments_lexer": "ipython3",
   "version": "3.6.8"
  }
 },
 "nbformat": 4,
 "nbformat_minor": 2
}
