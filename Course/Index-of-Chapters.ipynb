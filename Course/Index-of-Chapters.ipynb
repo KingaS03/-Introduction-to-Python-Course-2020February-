{
 "cells": [
  {
   "cell_type": "markdown",
   "metadata": {},
   "source": [
    "This course is based on the book below and the corresponding Jupyter notebooks of *Jake VanderPlas*. The course in its original format can be found [on Github](https://github.com/jakevdp/WhirlwindTourOfPython). Kinga Sipos added Chapter *13-Plotting* to provide a first experience with plotting in Python and some extra exercises in order to enhance the interactivity of the course."
   ]
  },
  {
   "cell_type": "markdown",
   "metadata": {},
   "source": [
    "<img src=\"fig/cover-large.gif\">"
   ]
  },
  {
   "cell_type": "markdown",
   "metadata": {},
   "source": [
    "*A Whirlwind Tour of Python* is a fast-paced introduction to essential\n",
    "components of the Python language for researchers and developers.\n",
    "\n",
    "According to *Jake VanderPlas* the material is particularly aimed at those \n",
    "who wish to use Python for data \n",
    "science and/or scientific programming, and in this capacity serves as an\n",
    "introduction to his next book, *The Python Data Science Handbook*.\n",
    "These notebooks are adapted from lectures and workshops *Jake VanderPlas* has given on these\n",
    "topics at University of Washington and at various conferences, meetings, and\n",
    "workshops around the world."
   ]
  },
  {
   "cell_type": "markdown",
   "metadata": {},
   "source": [
    "## Index\n",
    "\n",
    "1. [Introduction](00-Introduction.ipynb)\n",
    "2. [How to Run Python Code](01-How-to-Run-Python-Code.ipynb)\n",
    "3. [Basic Python Syntax](02-Basic-Python-Syntax.ipynb)\n",
    "4. [Python Semantics: Variables](03-Semantics-Variables.ipynb)\n",
    "5. [Python Semantics: Operators](04-Semantics-Operators.ipynb)\n",
    "6. [Built-In Scalar Types](05-Built-in-Scalar-Types.ipynb)\n",
    "7. [Built-In Data Structures](06-Built-in-Data-Structures.ipynb)\n",
    "8. [Control Flow Statements](07-Control-Flow-Statements.ipynb)\n",
    "9. [Defining Functions](08-Defining-Functions.ipynb)\n",
    "10. [Errors and Exceptions](09-Errors-and-Exceptions.ipynb)\n",
    "11. [Iterators](10-Iterators.ipynb)\n",
    "12. [List Comprehensions](11-List-Comprehensions.ipynb)\n",
    "13. [Generators and Generator Expressions](12-Generators.ipynb)\n",
    "14. [Plotting](13-Plotting.ipynb)\n",
    "15. [Modules and Packages](14-Modules-and-Packages.ipynb)\n",
    "16. [Strings and Regular Expressions](15-Strings-and-Regular-Expressions.ipynb)\n",
    "17. [Preview of Data Science Tools](16-Preview-of-Data-Science-Tools.ipynb)\n",
    "18. [Resources for Further Learning](17-Further-Resources.ipynb)\n",
    "19. [Appendix: Figure Code](18-Figures.ipynb)"
   ]
  },
  {
   "cell_type": "markdown",
   "metadata": {},
   "source": [
    "## License\n",
    "\n",
    "The materials from *Jake VanderPlas* were modified respecting the licence they were published with. The modified material is released under the same \"No Rights Reserved\" [CC0](LICENSE)\n",
    "license, and thus you are free to re-use, modify, build-on, and enhance\n",
    "this material for any purpose.\n",
    "\n",
    "Respecting the wish of *Jake VanderPlast*, we include a proper attribution and/or citation of the materials consituting the basis of this course:\n",
    "\n",
    "> *A Whirlwind Tour of Python* by Jake VanderPlas (O’Reilly). Copyright 2016 O’Reilly Media, Inc., 978-1-491-96465-1\n",
    "\n",
    "Read more about CC0 [here](https://creativecommons.org/share-your-work/public-domain/cc0/)."
   ]
  }
 ],
 "metadata": {
  "anaconda-cloud": {},
  "kernelspec": {
   "display_name": "Python 3",
   "language": "python",
   "name": "python3"
  },
  "language_info": {
   "codemirror_mode": {
    "name": "ipython",
    "version": 3
   },
   "file_extension": ".py",
   "mimetype": "text/x-python",
   "name": "python",
   "nbconvert_exporter": "python",
   "pygments_lexer": "ipython3",
   "version": "3.6.8"
  }
 },
 "nbformat": 4,
 "nbformat_minor": 2
}
